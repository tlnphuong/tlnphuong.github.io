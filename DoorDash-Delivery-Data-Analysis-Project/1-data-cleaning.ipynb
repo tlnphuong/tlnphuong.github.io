{
 "cells": [
  {
   "cell_type": "code",
   "execution_count": 1,
   "id": "1f4436e5",
   "metadata": {},
   "outputs": [],
   "source": [
    "# Import libraries\n",
    "import pandas as pd"
   ]
  },
  {
   "cell_type": "code",
   "execution_count": 2,
   "id": "7bb24798",
   "metadata": {},
   "outputs": [
    {
     "name": "stderr",
     "output_type": "stream",
     "text": [
      "/var/folders/62/p722z_l11x517nw63zbxpyd80000gn/T/ipykernel_96488/203143900.py:2: DtypeWarning: Columns (9) have mixed types. Specify dtype option on import or set low_memory=False.\n",
      "  df = pd.read_csv('DeliveryData.csv')\n"
     ]
    },
    {
     "data": {
      "text/html": [
       "<div>\n",
       "<style scoped>\n",
       "    .dataframe tbody tr th:only-of-type {\n",
       "        vertical-align: middle;\n",
       "    }\n",
       "\n",
       "    .dataframe tbody tr th {\n",
       "        vertical-align: top;\n",
       "    }\n",
       "\n",
       "    .dataframe thead th {\n",
       "        text-align: right;\n",
       "    }\n",
       "</style>\n",
       "<table border=\"1\" class=\"dataframe\">\n",
       "  <thead>\n",
       "    <tr style=\"text-align: right;\">\n",
       "      <th></th>\n",
       "      <th>DELIVERY_UUID</th>\n",
       "      <th>DELIV_CREATED_AT</th>\n",
       "      <th>DELIV_STORE_NAME</th>\n",
       "      <th>DELIV_DASHER_ID</th>\n",
       "      <th>DELIV_SUBMARKET</th>\n",
       "      <th>DELIV_D2R</th>\n",
       "      <th>DELIV_IS_20_MIN_LATE</th>\n",
       "      <th>DELIV_CLAT</th>\n",
       "      <th>DELIV_CANCELLED_AT</th>\n",
       "      <th>DELIV_MISSING_INCORRECT_REPORT</th>\n",
       "      <th>WAS_REQUESTED</th>\n",
       "      <th>WAS_MISSING</th>\n",
       "      <th>WAS_SUBBED</th>\n",
       "      <th>WAS_FOUND</th>\n",
       "      <th>ITEM_NAME</th>\n",
       "      <th>ITEM_PRICE</th>\n",
       "      <th>ITEM_CATEGORY</th>\n",
       "      <th>SUBSTITUTE_ITEM_NAME</th>\n",
       "      <th>SUBSTITUTE_ITEM_CATEGORY</th>\n",
       "    </tr>\n",
       "  </thead>\n",
       "  <tbody>\n",
       "    <tr>\n",
       "      <th>0</th>\n",
       "      <td>9140e853-ea67-4eee-ba76-85fafcc7da6d</td>\n",
       "      <td>2022-10-14 23:59:09</td>\n",
       "      <td>Grocery1</td>\n",
       "      <td>16990594.0</td>\n",
       "      <td>Cincinnati</td>\n",
       "      <td>0.083333</td>\n",
       "      <td>0.0</td>\n",
       "      <td>0.366667</td>\n",
       "      <td>NaN</td>\n",
       "      <td>False</td>\n",
       "      <td>1.0</td>\n",
       "      <td>0.0</td>\n",
       "      <td>0.0</td>\n",
       "      <td>1.0</td>\n",
       "      <td>Cupcake Pinot Grigio (750 ml)</td>\n",
       "      <td>8.99</td>\n",
       "      <td>Alcohol</td>\n",
       "      <td>NaN</td>\n",
       "      <td>NaN</td>\n",
       "    </tr>\n",
       "    <tr>\n",
       "      <th>1</th>\n",
       "      <td>9140e853-ea67-4eee-ba76-85fafcc7da6d</td>\n",
       "      <td>2022-10-14 23:59:09</td>\n",
       "      <td>Grocery1</td>\n",
       "      <td>16990594.0</td>\n",
       "      <td>Cincinnati</td>\n",
       "      <td>0.083333</td>\n",
       "      <td>0.0</td>\n",
       "      <td>0.366667</td>\n",
       "      <td>NaN</td>\n",
       "      <td>False</td>\n",
       "      <td>1.0</td>\n",
       "      <td>0.0</td>\n",
       "      <td>0.0</td>\n",
       "      <td>1.0</td>\n",
       "      <td>Meijer Tomato Paste No Salt Added (6 oz)</td>\n",
       "      <td>0.90</td>\n",
       "      <td>Pantry</td>\n",
       "      <td>NaN</td>\n",
       "      <td>NaN</td>\n",
       "    </tr>\n",
       "    <tr>\n",
       "      <th>2</th>\n",
       "      <td>9140e853-ea67-4eee-ba76-85fafcc7da6d</td>\n",
       "      <td>2022-10-14 23:59:09</td>\n",
       "      <td>Grocery1</td>\n",
       "      <td>16990594.0</td>\n",
       "      <td>Cincinnati</td>\n",
       "      <td>0.083333</td>\n",
       "      <td>0.0</td>\n",
       "      <td>0.366667</td>\n",
       "      <td>NaN</td>\n",
       "      <td>False</td>\n",
       "      <td>1.0</td>\n",
       "      <td>0.0</td>\n",
       "      <td>0.0</td>\n",
       "      <td>1.0</td>\n",
       "      <td>Pillsbury Ready To Bake! Cookie Dough Chocolat...</td>\n",
       "      <td>4.25</td>\n",
       "      <td>Bakery</td>\n",
       "      <td>NaN</td>\n",
       "      <td>NaN</td>\n",
       "    </tr>\n",
       "    <tr>\n",
       "      <th>3</th>\n",
       "      <td>9140e853-ea67-4eee-ba76-85fafcc7da6d</td>\n",
       "      <td>2022-10-14 23:59:09</td>\n",
       "      <td>Grocery1</td>\n",
       "      <td>16990594.0</td>\n",
       "      <td>Cincinnati</td>\n",
       "      <td>0.083333</td>\n",
       "      <td>0.0</td>\n",
       "      <td>0.366667</td>\n",
       "      <td>NaN</td>\n",
       "      <td>False</td>\n",
       "      <td>1.0</td>\n",
       "      <td>0.0</td>\n",
       "      <td>0.0</td>\n",
       "      <td>1.0</td>\n",
       "      <td>Meijer Ultra Pasteurized Heavy Whipping Cream ...</td>\n",
       "      <td>4.05</td>\n",
       "      <td>Dairy &amp; Eggs</td>\n",
       "      <td>NaN</td>\n",
       "      <td>NaN</td>\n",
       "    </tr>\n",
       "    <tr>\n",
       "      <th>4</th>\n",
       "      <td>9140e853-ea67-4eee-ba76-85fafcc7da6d</td>\n",
       "      <td>2022-10-14 23:59:09</td>\n",
       "      <td>Grocery1</td>\n",
       "      <td>16990594.0</td>\n",
       "      <td>Cincinnati</td>\n",
       "      <td>0.083333</td>\n",
       "      <td>0.0</td>\n",
       "      <td>0.366667</td>\n",
       "      <td>NaN</td>\n",
       "      <td>False</td>\n",
       "      <td>1.0</td>\n",
       "      <td>0.0</td>\n",
       "      <td>0.0</td>\n",
       "      <td>1.0</td>\n",
       "      <td>Maruchan Chicken Flavor Ramen Noodle Soup Box ...</td>\n",
       "      <td>3.95</td>\n",
       "      <td>Pantry</td>\n",
       "      <td>NaN</td>\n",
       "      <td>NaN</td>\n",
       "    </tr>\n",
       "  </tbody>\n",
       "</table>\n",
       "</div>"
      ],
      "text/plain": [
       "                          DELIVERY_UUID     DELIV_CREATED_AT DELIV_STORE_NAME  \\\n",
       "0  9140e853-ea67-4eee-ba76-85fafcc7da6d  2022-10-14 23:59:09         Grocery1   \n",
       "1  9140e853-ea67-4eee-ba76-85fafcc7da6d  2022-10-14 23:59:09         Grocery1   \n",
       "2  9140e853-ea67-4eee-ba76-85fafcc7da6d  2022-10-14 23:59:09         Grocery1   \n",
       "3  9140e853-ea67-4eee-ba76-85fafcc7da6d  2022-10-14 23:59:09         Grocery1   \n",
       "4  9140e853-ea67-4eee-ba76-85fafcc7da6d  2022-10-14 23:59:09         Grocery1   \n",
       "\n",
       "   DELIV_DASHER_ID DELIV_SUBMARKET  DELIV_D2R  DELIV_IS_20_MIN_LATE  \\\n",
       "0       16990594.0      Cincinnati   0.083333                   0.0   \n",
       "1       16990594.0      Cincinnati   0.083333                   0.0   \n",
       "2       16990594.0      Cincinnati   0.083333                   0.0   \n",
       "3       16990594.0      Cincinnati   0.083333                   0.0   \n",
       "4       16990594.0      Cincinnati   0.083333                   0.0   \n",
       "\n",
       "   DELIV_CLAT DELIV_CANCELLED_AT DELIV_MISSING_INCORRECT_REPORT  \\\n",
       "0    0.366667                NaN                          False   \n",
       "1    0.366667                NaN                          False   \n",
       "2    0.366667                NaN                          False   \n",
       "3    0.366667                NaN                          False   \n",
       "4    0.366667                NaN                          False   \n",
       "\n",
       "   WAS_REQUESTED  WAS_MISSING  WAS_SUBBED  WAS_FOUND  \\\n",
       "0            1.0          0.0         0.0        1.0   \n",
       "1            1.0          0.0         0.0        1.0   \n",
       "2            1.0          0.0         0.0        1.0   \n",
       "3            1.0          0.0         0.0        1.0   \n",
       "4            1.0          0.0         0.0        1.0   \n",
       "\n",
       "                                           ITEM_NAME  ITEM_PRICE  \\\n",
       "0                      Cupcake Pinot Grigio (750 ml)        8.99   \n",
       "1           Meijer Tomato Paste No Salt Added (6 oz)        0.90   \n",
       "2  Pillsbury Ready To Bake! Cookie Dough Chocolat...        4.25   \n",
       "3  Meijer Ultra Pasteurized Heavy Whipping Cream ...        4.05   \n",
       "4  Maruchan Chicken Flavor Ramen Noodle Soup Box ...        3.95   \n",
       "\n",
       "  ITEM_CATEGORY SUBSTITUTE_ITEM_NAME SUBSTITUTE_ITEM_CATEGORY  \n",
       "0       Alcohol                  NaN                      NaN  \n",
       "1        Pantry                  NaN                      NaN  \n",
       "2        Bakery                  NaN                      NaN  \n",
       "3  Dairy & Eggs                  NaN                      NaN  \n",
       "4        Pantry                  NaN                      NaN  "
      ]
     },
     "execution_count": 2,
     "metadata": {},
     "output_type": "execute_result"
    }
   ],
   "source": [
    "# Import original data from .csv file into dataframe\n",
    "df = pd.read_csv('DeliveryData.csv')\n",
    "\n",
    "# Sample of 5 rows from the dataset\n",
    "df.head()"
   ]
  },
  {
   "cell_type": "code",
   "execution_count": 3,
   "id": "a3bde4a1",
   "metadata": {},
   "outputs": [
    {
     "data": {
      "text/plain": [
       "DELIVERY_UUID                         2\n",
       "DELIV_CREATED_AT                      2\n",
       "DELIV_STORE_NAME                      2\n",
       "DELIV_DASHER_ID                    1011\n",
       "DELIV_SUBMARKET                       2\n",
       "DELIV_D2R                          1289\n",
       "DELIV_IS_20_MIN_LATE                  2\n",
       "DELIV_CLAT                         2395\n",
       "DELIV_CANCELLED_AT                59916\n",
       "DELIV_MISSING_INCORRECT_REPORT        2\n",
       "WAS_REQUESTED                         2\n",
       "WAS_MISSING                           2\n",
       "WAS_SUBBED                            2\n",
       "WAS_FOUND                             2\n",
       "ITEM_NAME                             2\n",
       "ITEM_PRICE                            2\n",
       "ITEM_CATEGORY                         2\n",
       "SUBSTITUTE_ITEM_NAME              57997\n",
       "SUBSTITUTE_ITEM_CATEGORY          57997\n",
       "dtype: int64"
      ]
     },
     "execution_count": 3,
     "metadata": {},
     "output_type": "execute_result"
    }
   ],
   "source": [
    "# Check for null values in each columns: there are 2 empty rows.\n",
    "df.isna().sum()"
   ]
  },
  {
   "cell_type": "code",
   "execution_count": 4,
   "id": "c8e14167",
   "metadata": {},
   "outputs": [
    {
     "data": {
      "text/plain": [
       "DELIVERY_UUID                         0\n",
       "DELIV_CREATED_AT                      0\n",
       "DELIV_STORE_NAME                      0\n",
       "DELIV_DASHER_ID                    1009\n",
       "DELIV_SUBMARKET                       0\n",
       "DELIV_D2R                          1287\n",
       "DELIV_IS_20_MIN_LATE                  0\n",
       "DELIV_CLAT                         2393\n",
       "DELIV_CANCELLED_AT                59914\n",
       "DELIV_MISSING_INCORRECT_REPORT        0\n",
       "WAS_REQUESTED                         0\n",
       "WAS_MISSING                           0\n",
       "WAS_SUBBED                            0\n",
       "WAS_FOUND                             0\n",
       "ITEM_NAME                             0\n",
       "ITEM_PRICE                            0\n",
       "ITEM_CATEGORY                         0\n",
       "SUBSTITUTE_ITEM_NAME              57995\n",
       "SUBSTITUTE_ITEM_CATEGORY          57995\n",
       "dtype: int64"
      ]
     },
     "execution_count": 4,
     "metadata": {},
     "output_type": "execute_result"
    }
   ],
   "source": [
    "# Remove empty rows (rows without a Delivery ID)\n",
    "df = df[df['DELIVERY_UUID'].isna()==False]\n",
    "\n",
    "# Re-check for null values in each column\n",
    "# There are 1009 rows without a Dasher ID.\n",
    "# Notice that there are also 1287 NULL values in 'DELIV_D2R' (time from driver's start location to store)\n",
    "# AND 2393 NULL values in 'DELIV_CLAT' (time from delivery order placement to when an ultimate drive accepts the order)\n",
    "df.isna().sum()"
   ]
  },
  {
   "cell_type": "code",
   "execution_count": 12,
   "id": "314c9314",
   "metadata": {},
   "outputs": [
    {
     "name": "stdout",
     "output_type": "stream",
     "text": [
      "Number of cancelled delivery items: 669\n"
     ]
    }
   ],
   "source": [
    "# Assuming rows with values in 'DELIV_CANCELLED_AT' column are cancelled delivery items.\n",
    "# These are 669 cancelled items.\n",
    "print(\"Number of cancelled delivery items: {}\".format(len(df[df['DELIV_CANCELLED_AT'].isna()==False])))"
   ]
  },
  {
   "cell_type": "code",
   "execution_count": 13,
   "id": "8f829b61",
   "metadata": {},
   "outputs": [
    {
     "data": {
      "text/plain": [
       "DELIVERY_UUID                       0\n",
       "DELIV_CREATED_AT                    0\n",
       "DELIV_STORE_NAME                    0\n",
       "DELIV_DASHER_ID                   669\n",
       "DELIV_SUBMARKET                     0\n",
       "DELIV_D2R                         669\n",
       "DELIV_IS_20_MIN_LATE                0\n",
       "DELIV_CLAT                        669\n",
       "DELIV_CANCELLED_AT                  0\n",
       "DELIV_MISSING_INCORRECT_REPORT      0\n",
       "WAS_REQUESTED                       0\n",
       "WAS_MISSING                         0\n",
       "WAS_SUBBED                          0\n",
       "WAS_FOUND                           0\n",
       "ITEM_NAME                           0\n",
       "ITEM_PRICE                          0\n",
       "ITEM_CATEGORY                       0\n",
       "SUBSTITUTE_ITEM_NAME              655\n",
       "SUBSTITUTE_ITEM_CATEGORY          655\n",
       "dtype: int64"
      ]
     },
     "execution_count": 13,
     "metadata": {},
     "output_type": "execute_result"
    }
   ],
   "source": [
    "# All cancelled deliveries do not have 'DELIV_DASHER_ID'. \n",
    "df[df['DELIV_CANCELLED_AT'].isna()==False].isna().sum() "
   ]
  },
  {
   "cell_type": "code",
   "execution_count": 18,
   "id": "a3bb77d3",
   "metadata": {},
   "outputs": [
    {
     "data": {
      "text/plain": [
       "DELIVERY_UUID                         0\n",
       "DELIV_CREATED_AT                      0\n",
       "DELIV_STORE_NAME                      0\n",
       "DELIV_DASHER_ID                     340\n",
       "DELIV_SUBMARKET                       0\n",
       "DELIV_D2R                           618\n",
       "DELIV_IS_20_MIN_LATE                  0\n",
       "DELIV_CLAT                         1724\n",
       "DELIV_CANCELLED_AT                59914\n",
       "DELIV_MISSING_INCORRECT_REPORT        0\n",
       "WAS_REQUESTED                         0\n",
       "WAS_MISSING                           0\n",
       "WAS_SUBBED                            0\n",
       "WAS_FOUND                             0\n",
       "ITEM_NAME                             0\n",
       "ITEM_PRICE                            0\n",
       "ITEM_CATEGORY                         0\n",
       "SUBSTITUTE_ITEM_NAME              57340\n",
       "SUBSTITUTE_ITEM_CATEGORY          57340\n",
       "dtype: int64"
      ]
     },
     "execution_count": 18,
     "metadata": {},
     "output_type": "execute_result"
    }
   ],
   "source": [
    "# Among non-cancelled items, 340 rows do note have 'DELIV_DASHER_ID'. \n",
    "# We will assume they are pick-up orders.\n",
    "df[df['DELIV_CANCELLED_AT'].isna()==True].isna().sum() "
   ]
  },
  {
   "cell_type": "code",
   "execution_count": 15,
   "id": "790a08c7",
   "metadata": {},
   "outputs": [
    {
     "data": {
      "text/plain": [
       "DELIV_STORE_NAME\n",
       "DashMart1    340\n",
       "Name: count, dtype: int64"
      ]
     },
     "execution_count": 15,
     "metadata": {},
     "output_type": "execute_result"
    }
   ],
   "source": [
    "# All of these 'could be pick-up orders' are from DashMart1\n",
    "no_dash_no_cancel = df[(df['DELIV_DASHER_ID'].isna()==True) & (df['DELIV_CANCELLED_AT'].isna() == True)]\n",
    "no_dash_no_cancel['DELIV_STORE_NAME'].value_counts()"
   ]
  },
  {
   "cell_type": "code",
   "execution_count": 19,
   "id": "fb6ffa97",
   "metadata": {
    "scrolled": true
   },
   "outputs": [
    {
     "data": {
      "text/plain": [
       "DELIVERY_UUID                         0\n",
       "DELIV_CREATED_AT                      0\n",
       "DELIV_STORE_NAME                      0\n",
       "DELIV_DASHER_ID                       0\n",
       "DELIV_SUBMARKET                       0\n",
       "DELIV_D2R                           278\n",
       "DELIV_IS_20_MIN_LATE                  0\n",
       "DELIV_CLAT                         1384\n",
       "DELIV_CANCELLED_AT                59574\n",
       "DELIV_MISSING_INCORRECT_REPORT        0\n",
       "WAS_REQUESTED                         0\n",
       "WAS_MISSING                           0\n",
       "WAS_SUBBED                            0\n",
       "WAS_FOUND                             0\n",
       "ITEM_NAME                             0\n",
       "ITEM_PRICE                            0\n",
       "ITEM_CATEGORY                         0\n",
       "SUBSTITUTE_ITEM_NAME              57000\n",
       "SUBSTITUTE_ITEM_CATEGORY          57000\n",
       "dtype: int64"
      ]
     },
     "execution_count": 19,
     "metadata": {},
     "output_type": "execute_result"
    }
   ],
   "source": [
    "# Drop all rows with NULL 'DELIV_DASHER_ID'\n",
    "df_dasher_id = df[df['DELIV_DASHER_ID'].isna()==False]\n",
    "df_dasher_id.isna().sum()"
   ]
  },
  {
   "cell_type": "code",
   "execution_count": 20,
   "id": "b0c09b25",
   "metadata": {},
   "outputs": [],
   "source": [
    "# Convert cleaned data to csv file\n",
    "df_dasher_id.to_csv('CleanedData.csv', index=False)"
   ]
  }
 ],
 "metadata": {
  "kernelspec": {
   "display_name": "Python 3 (ipykernel)",
   "language": "python",
   "name": "python3"
  },
  "language_info": {
   "codemirror_mode": {
    "name": "ipython",
    "version": 3
   },
   "file_extension": ".py",
   "mimetype": "text/x-python",
   "name": "python",
   "nbconvert_exporter": "python",
   "pygments_lexer": "ipython3",
   "version": "3.9.12"
  }
 },
 "nbformat": 4,
 "nbformat_minor": 5
}
