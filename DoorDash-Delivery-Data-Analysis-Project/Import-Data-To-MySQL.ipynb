{
 "cells": [
  {
   "cell_type": "code",
   "execution_count": 1,
   "id": "10b3f465",
   "metadata": {},
   "outputs": [],
   "source": [
    "# Import necessary libraries\n",
    "import mysql.connector\n",
    "import pandas as pd\n",
    "\n",
    "# All csv files need to be loaded: raw dataset + cleaned dataset\n",
    "# tables = {[destination table]: [source file]}\n",
    "\n",
    "tables = {\"OriginalDeliveryData\": \"DeliveryData\",\n",
    "          \"DeliveryData\":\"CleanedData\"} \n",
    "\n",
    "# Change csv files to dataframe and calculate column counts of each table, save separately in 2 dictionaries\n",
    "df={}\n",
    "count_columns={}\n",
    "for table,file in tables.items():\n",
    "    df[table] = pd.read_csv(file)\n",
    "    count_columns[table] = len(df[table].columns)"
   ]
  },
  {
   "cell_type": "code",
   "execution_count": 2,
   "id": "78ffcff7",
   "metadata": {},
   "outputs": [],
   "source": [
    "# Connect to MySQL Database\n",
    "con = mysql.connector.connect(user=\"root\", password=\"SQLwork123\",\n",
    "                              host=\"localhost\",\n",
    "                              database=\"doordash\")\n",
    "cur=con.cursor()"
   ]
  },
  {
   "cell_type": "code",
   "execution_count": null,
   "id": "d0b23d33",
   "metadata": {},
   "outputs": [],
   "source": [
    "# Create tables in MySQL"
   ]
  },
  {
   "cell_type": "code",
   "execution_count": 3,
   "id": "90212d1f",
   "metadata": {},
   "outputs": [],
   "source": [
    "# Load data rows from dataframes to tables in MySQL\n",
    "for key in df.keys():\n",
    "    for i,row in df[key].iterrows():\n",
    "        value = \",\".join([\"%s\" for _ in range(count_columns[key])])\n",
    "        sql = \"INSERT INTO doordash.{} VALUES ({})\".format(key,value)\n",
    "        cur.execute(sql,tuple(row))\n",
    "        con.commit()"
   ]
  },
  {
   "cell_type": "code",
   "execution_count": 5,
   "id": "b95549b4",
   "metadata": {},
   "outputs": [],
   "source": [
    "# Close database connection\n",
    "cur.close()\n",
    "con.close()"
   ]
  }
 ],
 "metadata": {
  "kernelspec": {
   "display_name": "Python 3 (ipykernel)",
   "language": "python",
   "name": "python3"
  },
  "language_info": {
   "codemirror_mode": {
    "name": "ipython",
    "version": 3
   },
   "file_extension": ".py",
   "mimetype": "text/x-python",
   "name": "python",
   "nbconvert_exporter": "python",
   "pygments_lexer": "ipython3",
   "version": "3.9.12"
  }
 },
 "nbformat": 4,
 "nbformat_minor": 5
}
