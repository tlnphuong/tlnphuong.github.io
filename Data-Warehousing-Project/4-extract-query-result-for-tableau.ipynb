{
 "cells": [
  {
   "cell_type": "code",
   "execution_count": 1,
   "id": "fdfc002f",
   "metadata": {},
   "outputs": [],
   "source": [
    "import pandas as pd\n",
    "import mysql.connector\n",
    "import csv"
   ]
  },
  {
   "cell_type": "code",
   "execution_count": 2,
   "id": "89e155cc",
   "metadata": {},
   "outputs": [],
   "source": [
    "con = mysql.connector.connect(user=\"root\", password=\"**********\",\n",
    "                              host=\"localhost\",\n",
    "                              database=\"waste_management\")\n",
    "cur=con.cursor()"
   ]
  },
  {
   "cell_type": "code",
   "execution_count": 3,
   "id": "533bd339",
   "metadata": {},
   "outputs": [],
   "source": [
    "query = 'SELECT \\\n",
    "            ft.TripId, \\\n",
    "            DATE(dd.Date) AS Date, \\\n",
    "            ds.City, \\\n",
    "            dt.Truckid, \\\n",
    "            dt.TruckType, \\\n",
    "            ft.WasteCollected \\\n",
    "        FROM FactTrips ft \\\n",
    "        JOIN DimDate dd ON ft.dateid = dd.dateid \\\n",
    "        JOIN DimTruck dt ON ft.truckid = dt.truckid \\\n",
    "        JOIN DimStation ds ON ft.stationid = ds.stationid \\\n",
    "        ORDER BY 1 ASC;'\n",
    "\n",
    "cur.execute(query)\n",
    "result = cur.fetchall()"
   ]
  },
  {
   "cell_type": "code",
   "execution_count": 4,
   "id": "b433968c",
   "metadata": {},
   "outputs": [],
   "source": [
    "headers = [col[0] for col in cur.description] # get headers\n",
    "result.insert(0, tuple(headers))\n",
    "filepath = open('/Users/namphuong/Desktop/Coursera Project/waste managment/DataForTableau.csv', 'w')\n",
    "myFile = csv.writer(filepath)\n",
    "myFile.writerows(result)\n",
    "filepath.close()"
   ]
  },
  {
   "cell_type": "code",
   "execution_count": 5,
   "id": "130aca1d",
   "metadata": {},
   "outputs": [],
   "source": [
    "cur.close()\n",
    "con.close()"
   ]
  }
 ],
 "metadata": {
  "kernelspec": {
   "display_name": "Python 3 (ipykernel)",
   "language": "python",
   "name": "python3"
  },
  "language_info": {
   "codemirror_mode": {
    "name": "ipython",
    "version": 3
   },
   "file_extension": ".py",
   "mimetype": "text/x-python",
   "name": "python",
   "nbconvert_exporter": "python",
   "pygments_lexer": "ipython3",
   "version": "3.9.12"
  }
 },
 "nbformat": 4,
 "nbformat_minor": 5
}
