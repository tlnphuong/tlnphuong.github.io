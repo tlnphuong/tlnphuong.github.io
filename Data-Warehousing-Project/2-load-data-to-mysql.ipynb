{
 "cells": [
  {
   "cell_type": "code",
   "execution_count": 5,
   "id": "95cb771f",
   "metadata": {},
   "outputs": [],
   "source": [
    "# Import necessary libraries\n",
    "import mysql.connector\n",
    "import pandas as pd\n",
    "\n",
    "# All csv files need to be loaded\n",
    "tables = {\"DimDate\": \"DimDate.csv\",\n",
    "          \"DimTruck\": \"DimTruck.csv\",\n",
    "          \"DimStation\": \"DimStation.csv\",\n",
    "          \"FactTrips\": \"FactTrips.csv\"}\n",
    "\n",
    "# Change csv files to dataframe and count columns of each table, save separately in 2 dictionaries\n",
    "df={}\n",
    "count_columns={}\n",
    "for table,file in tables.items():\n",
    "    df[table] = pd.read_csv(file)\n",
    "    count_columns[table] = len(df[table].columns)\n"
   ]
  },
  {
   "cell_type": "code",
   "execution_count": 6,
   "id": "dae380e1",
   "metadata": {},
   "outputs": [],
   "source": [
    "# Connect to MySQL Database\n",
    "con = mysql.connector.connect(user=\"root\", password=\"**********\",\n",
    "                              host=\"localhost\",\n",
    "                              database=\"waste_management\")\n",
    "cur=con.cursor()"
   ]
  },
  {
   "cell_type": "code",
   "execution_count": 7,
   "id": "88047d4e",
   "metadata": {},
   "outputs": [],
   "source": [
    "# Load Csv to Tables in MySQL\n",
    "for key in df.keys():\n",
    "    for i,row in df[key].iterrows():\n",
    "        value = \",\".join([\"%s\" for _ in range(count_columns[key])])\n",
    "        sql = \"INSERT INTO waste_management.{} VALUES ({})\".format(key,value)\n",
    "        cur.execute(sql,tuple(row))\n",
    "        con.commit()"
   ]
  },
  {
   "cell_type": "code",
   "execution_count": 8,
   "id": "9671d5d2",
   "metadata": {},
   "outputs": [],
   "source": [
    "# Close connection\n",
    "cur.close()\n",
    "con.close()"
   ]
  }
 ],
 "metadata": {
  "kernelspec": {
   "display_name": "Python 3 (ipykernel)",
   "language": "python",
   "name": "python3"
  },
  "language_info": {
   "codemirror_mode": {
    "name": "ipython",
    "version": 3
   },
   "file_extension": ".py",
   "mimetype": "text/x-python",
   "name": "python",
   "nbconvert_exporter": "python",
   "pygments_lexer": "ipython3",
   "version": "3.9.12"
  }
 },
 "nbformat": 4,
 "nbformat_minor": 5
}
